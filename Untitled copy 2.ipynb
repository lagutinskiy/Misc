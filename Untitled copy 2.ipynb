{
 "cells": [
  {
   "cell_type": "code",
   "execution_count": 8,
   "metadata": {},
   "outputs": [
    {
     "name": "stdout",
     "output_type": "stream",
     "text": [
      "ldap://dc-rtcom.group.s7:389 - cleartext - user: v.lagutinskiy@group.s7 - not lazy - unbound - closed - <no socket> - tls not started - not listening - SyncStrategy - internal decoder\n"
     ]
    }
   ],
   "source": [
    "from ldap3 import Server, Connection, SIMPLE, SYNC, ASYNC, SUBTREE, ALL\n",
    "\n",
    "# домен - example.com\n",
    "# DNS имя сервера Active Directory\n",
    "AD_SERVER = \"dc-rtcom.group.s7\"\n",
    "# Пользователь (логин) в Active Directory - нужно указать логин в AD \n",
    "# в формате 'EXAMPLE\\aduser' или 'aduser@example.com'\n",
    "AD_USER = \"v.lagutinskiy@group.s7\"\n",
    "AD_PASSWORD = \"SaToY1202\"\n",
    "#AD_SEARCH_TREE = 'dc=example,dc=com'\n",
    "\n",
    "server = Server(AD_SERVER)\n",
    "conn = Connection(server,user=AD_USER,password=AD_PASSWORD)\n",
    "print(conn)\n",
    "#conn.bind()\n",
    "# в ответ должно быть - True"
   ]
  },
  {
   "cell_type": "code",
   "execution_count": null,
   "metadata": {},
   "outputs": [],
   "source": [
    "# Поиск в Active Directory\n",
    "# примеры ldap фильтров можно посмотреть здесь -\n",
    "# https://social.technet.microsoft.com/wiki/contents/articles/8077.active-directory-ldap-ru-ru.aspx\n",
    "# Я в нижеследующем фильтре:\n",
    "# - исключаю всеx отключенных пользователей (!(UserAccountControl:1.2.840.113556.1.4.803:=2))\n",
    "# - добавляю только тех пользователей у которых заполнено имя и фамилия\n",
    "# - и вывожу атрибуты - attributes\n",
    "# Все возможные атрибуты Active Directory можно посмотреть здесь -\n",
    "# https://msdn.microsoft.com/en-us/library/ms675090%28v=vs.85%29.aspx\n",
    "conn.search(AD_SEARCH_TREE,'(&(objectCategory=Person)(!(UserAccountControl:1.2.840.113556.1.4.803:=2))(givenName=*)(sn=*))',\n",
    "    SUBTREE,\n",
    "    attributes =['cn','proxyAddresses','department','sAMAccountName', 'displayName', 'telephoneNumber', 'ipPhone', 'streetAddress',\n",
    "    'title','manager','objectGUID','company','lastLogon']\n",
    "    )\n",
    "# после этого запроса в ответ должно быть - True\n",
    "\n",
    "# можно посмотреть на результат\n",
    "print(conn.entries)\n",
    "# или вывести только Common-Name - cn\n",
    "for entry in conn.entries:\n",
    "    print(entry.cn)\n",
    "\n",
    "# Найти пользователя с логином admin (sAMAccountName=admin) и показать информацию по нему\n",
    "conn.search(AD_SEARCH_TREE,'(&(objectCategory=Person)(sAMAccountName=admin))', SUBTREE,\n",
    "    attributes =['cn','proxyAddresses','department','sAMAccountName', 'displayName', 'telephoneNumber', 'ipPhone', 'streetAddress',\n",
    "    'title','manager','objectGUID','company','lastLogon']\n",
    "    )\n",
    "\n",
    "conn.entries"
   ]
  }
 ],
 "metadata": {
  "kernelspec": {
   "display_name": "Python 3",
   "language": "python",
   "name": "python3"
  },
  "language_info": {
   "codemirror_mode": {
    "name": "ipython",
    "version": 3
   },
   "file_extension": ".py",
   "mimetype": "text/x-python",
   "name": "python",
   "nbconvert_exporter": "python",
   "pygments_lexer": "ipython3",
   "version": "3.6.2"
  }
 },
 "nbformat": 4,
 "nbformat_minor": 2
}
