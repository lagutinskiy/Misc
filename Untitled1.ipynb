{
 "cells": [
  {
   "cell_type": "code",
   "execution_count": 1,
   "metadata": {},
   "outputs": [
    {
     "data": {
      "text/plain": [
       "['foo', {'bar': ['baz', None, 1.0, 2]}]"
      ]
     },
     "execution_count": 1,
     "metadata": {},
     "output_type": "execute_result"
    }
   ],
   "source": [
    "import json\n",
    "json.loads('[\"foo\", {\"bar\":[\"baz\", null, 1.0, 2]}]')"
   ]
  },
  {
   "cell_type": "code",
   "execution_count": 2,
   "metadata": {},
   "outputs": [
    {
     "data": {
      "text/plain": [
       "'\"foo\\x08ar'"
      ]
     },
     "execution_count": 2,
     "metadata": {},
     "output_type": "execute_result"
    }
   ],
   "source": [
    "json.loads('\"\\\\\"foo\\\\bar\"')"
   ]
  },
  {
   "cell_type": "code",
   "execution_count": 3,
   "metadata": {},
   "outputs": [
    {
     "data": {
      "text/plain": [
       "['streaming API']"
      ]
     },
     "execution_count": 3,
     "metadata": {},
     "output_type": "execute_result"
    }
   ],
   "source": [
    "from io import StringIO\n",
    "io = StringIO('[\"streaming API\"]')\n",
    "json.load(io)"
   ]
  },
  {
   "cell_type": "code",
   "execution_count": 4,
   "metadata": {},
   "outputs": [],
   "source": [
    "import uri"
   ]
  },
  {
   "cell_type": "code",
   "execution_count": null,
   "metadata": {},
   "outputs": [],
   "source": [
    "username = 'S7007'\n",
    "secretKey = 'RDoKVD8n3lSJMaFmskEh'\n",
    "\n",
    "nonce = 'd36e316282959a9ed4c89851497a717f'\n",
    "timestamp = Time.now.utc.iso8601\n",
    "text = nonce + timestamp + secretKey\n",
    "passwordDigest = Base64.encode64(Digest::SHA1.new.hexdigest(nonce + timestamp + secretKey)).strip\n",
    "\n",
    "url = 'https://api.emarsys.net/api/v2/language'\n",
    "\n",
    "header = 'UsernameToken ' +\n",
    "      \"Username=\\\"#{username}\\\", \" +\n",
    "      \"PasswordDigest=\\\"#{passwordDigest}\\\", \" +\n",
    "      \"Nonce=\\\"#{nonce}\\\", \" +\n",
    "      \"Created=\\\"#{timestamp}\\\"\"\n",
    "\n",
    "uri = URI(url)\n",
    "req = Net::HTTP::Get.new(uri)\n",
    "\n",
    "req['X-WSSE'] = header\n",
    "\n",
    "res = Net::HTTP.start(uri.hostname, uri.port, :use_ssl => true) do |http|\n",
    "http.request(req)"
   ]
  }
 ],
 "metadata": {
  "kernelspec": {
   "display_name": "Python 3",
   "language": "python",
   "name": "python3"
  },
  "language_info": {
   "codemirror_mode": {
    "name": "ipython",
    "version": 3
   },
   "file_extension": ".py",
   "mimetype": "text/x-python",
   "name": "python",
   "nbconvert_exporter": "python",
   "pygments_lexer": "ipython3",
   "version": "3.6.2"
  }
 },
 "nbformat": 4,
 "nbformat_minor": 2
}
