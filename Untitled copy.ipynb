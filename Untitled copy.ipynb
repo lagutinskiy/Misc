{
 "cells": [
  {
   "cell_type": "code",
   "execution_count": 7,
   "metadata": {},
   "outputs": [
    {
     "data": {
      "text/plain": [
       "70"
      ]
     },
     "execution_count": 7,
     "metadata": {},
     "output_type": "execute_result"
    }
   ],
   "source": [
    "# Первым шагом создаю файл output_.csv имеющий заданную структуру\n",
    "\n",
    "import csv\n",
    "\n",
    "f = csv.writer(open(\"output_.csv\", \"w\"),delimiter=\";\",lineterminator=\"\\n\")\n",
    "f.writerow([\"pass_id\",\"ticket_number\",\"date_of_issue\",\"departure_airport\",\"arrival_airport\"])"
   ]
  },
  {
   "cell_type": "code",
   "execution_count": 12,
   "metadata": {},
   "outputs": [],
   "source": [
    "# Последующее заполнение имеющегося файла output_.csv\n",
    "\n",
    "import json\n",
    "import csv\n",
    "\n",
    "# Путь до файла с объектом json вида\n",
    "file_path = '/Users/vladimir/Downloads/'\n",
    "# Имя файла json\n",
    "file_name = 'input_.json'\n",
    "file_js = file_path + file_name\n",
    "with open(file_js) as ofjs:\n",
    "    file_new = json.load(ofjs)\n",
    "    f = csv.writer(open(\"output_.csv\", \"a\"),delimiter=\";\",lineterminator=\"\\n\")\n",
    "for file_new in file_new:\n",
    "    f.writerow([file_new[\"pass_id\"],\n",
    "        file_new[\"ticket\"][\"number\"],\n",
    "        file_new[\"ticket\"][\"date_of_issue\"],\n",
    "        file_new[\"ticket\"][\"itinerary\"][\"departure_airport\"],\n",
    "        file_new[\"ticket\"][\"itinerary\"][\"arrival_airport\"]])"
   ]
  },
  {
   "cell_type": "code",
   "execution_count": 9,
   "metadata": {},
   "outputs": [],
   "source": []
  },
  {
   "cell_type": "code",
   "execution_count": 10,
   "metadata": {},
   "outputs": [],
   "source": []
  },
  {
   "cell_type": "code",
   "execution_count": 14,
   "metadata": {},
   "outputs": [
    {
     "data": {
      "text/plain": [
       "{'id': 12346,\n",
       " 'pass_id': 54321,\n",
       " 'ticket': {'number': '123123456790',\n",
       "  'date_of_issue': '2019-08-23T12:00:00+03:00',\n",
       "  'itinerary': {'departure_airport': 'DME', 'arrival_airport': 'OVB'}},\n",
       " 'used': 'False'}"
      ]
     },
     "execution_count": 14,
     "metadata": {},
     "output_type": "execute_result"
    }
   ],
   "source": [
    "file_new"
   ]
  },
  {
   "cell_type": "code",
   "execution_count": null,
   "metadata": {},
   "outputs": [],
   "source": []
  }
 ],
 "metadata": {
  "kernelspec": {
   "display_name": "Python 3",
   "language": "python",
   "name": "python3"
  },
  "language_info": {
   "codemirror_mode": {
    "name": "ipython",
    "version": 3
   },
   "file_extension": ".py",
   "mimetype": "text/x-python",
   "name": "python",
   "nbconvert_exporter": "python",
   "pygments_lexer": "ipython3",
   "version": "3.6.2"
  }
 },
 "nbformat": 4,
 "nbformat_minor": 2
}
